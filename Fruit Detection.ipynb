{
 "cells": [
  {
   "cell_type": "code",
   "execution_count": 57,
   "metadata": {},
   "outputs": [
    {
     "name": "stdout",
     "output_type": "stream",
     "text": [
      "Requirement already satisfied: opencv-python in /Library/Frameworks/Python.framework/Versions/3.8/lib/python3.8/site-packages (4.5.3.56)\n",
      "Requirement already satisfied: numpy>=1.17.3 in /Library/Frameworks/Python.framework/Versions/3.8/lib/python3.8/site-packages (from opencv-python) (1.19.2)\n",
      "\u001b[33mWARNING: You are using pip version 20.2.1; however, version 21.3.1 is available.\n",
      "You should consider upgrading via the '/Library/Frameworks/Python.framework/Versions/3.8/bin/python3.8 -m pip install --upgrade pip' command.\u001b[0m\n"
     ]
    }
   ],
   "source": [
    "!pip3 install opencv-python"
   ]
  },
  {
   "cell_type": "code",
   "execution_count": 1,
   "metadata": {},
   "outputs": [],
   "source": [
    "# cv2 is for re-sizing fruits pictures\n",
    "def GetFruit(fruitlist,datatype):\n",
    "    images=[]\n",
    "    labels=[]\n",
    "    val=['train','test']  \n",
    "    PATH=\"./fruits-360/\"+datatype+\"/\"\n",
    "    for i,fruit in enumerate(fruitlist):\n",
    "        location=PATH+fruit\n",
    "        data_number=0\n",
    "        for image_path in glob.glob(os.path.join(location,\"*.jpg\")):\n",
    "            image=cv2.imread(image_path,cv2.IMREAD_COLOR)\n",
    "            image=cv2.resize(image,(dim,dim))\n",
    "            image=cv2.cvtColor(image,cv2.COLOR_RGB2BGR)\n",
    "            images.append(image)\n",
    "            labels.append(i)\n",
    "            data_number+=1\n",
    "        print(datatype.upper(),fruitlist[i].upper(),\":\",data_number)\n",
    "    images=np.array(images)\n",
    "    labels=np.array(labels)\n",
    "    return images,labels"
   ]
  },
  {
   "cell_type": "code",
   "execution_count": 24,
   "metadata": {},
   "outputs": [],
   "source": [
    "import cv2\n",
    "import glob\n",
    "import numpy as np \n",
    "import os\n",
    "dim = 100\n",
    "from sklearn.svm import SVC\n",
    "from sklearn import metrics\n",
    "from sklearn.tree import DecisionTreeClassifier "
   ]
  },
  {
   "cell_type": "code",
   "execution_count": 9,
   "metadata": {},
   "outputs": [],
   "source": [
    "# Get image and Labels\n",
    "def Preprecessing(fruitlist):\n",
    "    # by GetFruit function to get dataset for certain kind of fruit\n",
    "    X_train_raw,y_train=GetFruit(fruitlist,'train')\n",
    "    X_test_raw,y_test=GetFruit(fruitlist,'test')\n",
    "\n",
    "    # scaling preprocessing\n",
    "    from skimage import feature\n",
    "    from sklearn.preprocessing import StandardScaler\n",
    "    # Scale data Images\n",
    "    scaler=StandardScaler()\n",
    "    X_train=scaler.fit_transform([i.flatten() for i in X_train_raw])\n",
    "    X_test=scaler.fit_transform([i.flatten() for i in X_test_raw])\n",
    "    print('--------------------------------')\n",
    "    print('shape of the training data:',X_train.shape)\n",
    "    print('shape of the testing data:',X_test.shape)\n",
    "    print('--------------------------------')\n",
    "    return X_train,X_test,y_train,y_test"
   ]
  },
  {
   "cell_type": "code",
   "execution_count": 10,
   "metadata": {},
   "outputs": [],
   "source": [
    "def Binary_Fruit_Dectetion(fruitlist):\n",
    "    X_train,X_test,y_train,y_test = Preprecessing(fruitlist)\n",
    "    # Import SVM model from sklearn package\n",
    "    svm=SVC(gamma='auto',kernel='linear',probability=True)\n",
    "    svm.fit(X_train,y_train)\n",
    "    y_pred=svm.predict(X_test)\n",
    "\n",
    "    # Evaluation\n",
    "    precision=metrics.accuracy_score(y_pred,y_test)*100\n",
    "    print('Accuracy to classify'+' '+fruitlist[0]+' '+'and'+' '+fruitlist[1]+': {0:.2f}%'.format(precision))"
   ]
  },
  {
   "cell_type": "code",
   "execution_count": 11,
   "metadata": {},
   "outputs": [
    {
     "name": "stdout",
     "output_type": "stream",
     "text": [
      "TRAIN PINEAPPLE : 490\n",
      "TRAIN MANGO : 490\n",
      "TEST PINEAPPLE : 166\n",
      "TEST MANGO : 166\n",
      "--------------------------------\n",
      "shape of the training data: (980, 30000)\n",
      "shape of the testing data: (332, 30000)\n",
      "--------------------------------\n",
      "Accuracy to classify Pineapple and Mango: 100.00%\n"
     ]
    }
   ],
   "source": [
    "# choose two fruit, run the detection function to predict and get detection_accuracy\n",
    "fruitlist=['Pineapple','Mango']\n",
    "Fruit_Dectetion(fruitlist)"
   ]
  },
  {
   "cell_type": "code",
   "execution_count": 12,
   "metadata": {},
   "outputs": [
    {
     "name": "stdout",
     "output_type": "stream",
     "text": [
      "TRAIN GRAPE WHITE : 490\n",
      "TRAIN GRAPE PINK : 492\n",
      "TEST GRAPE WHITE : 166\n",
      "TEST GRAPE PINK : 164\n",
      "--------------------------------\n",
      "shape of the training data: (982, 30000)\n",
      "shape of the testing data: (330, 30000)\n",
      "--------------------------------\n",
      "Accuracy to classify Grape White and Grape Pink: 100.00%\n"
     ]
    }
   ],
   "source": [
    "fruitlist=['Grape White','Grape Pink']\n",
    "Fruit_Dectetion(fruitlist)"
   ]
  },
  {
   "cell_type": "code",
   "execution_count": 63,
   "metadata": {},
   "outputs": [
    {
     "name": "stdout",
     "output_type": "stream",
     "text": [
      "TRAIN POTATO RED : 450\n",
      "TRAIN POTATO SWEET : 450\n",
      "TEST POTATO RED : 150\n",
      "TEST POTATO SWEET : 150\n",
      "--------------------------------\n",
      "shape of the training data: (900, 30000)\n",
      "shape of the testing data: (300, 30000)\n",
      "--------------------------------\n",
      "Accuracy to classify Potato Red and Potato Sweet: 78.67%\n"
     ]
    }
   ],
   "source": [
    "fruitlist=['Potato Red','Potato Sweet']\n",
    "Fruit_Dectetion(fruitlist)"
   ]
  },
  {
   "cell_type": "code",
   "execution_count": 32,
   "metadata": {},
   "outputs": [],
   "source": [
    "# use Decison_Tree to do multiple fruit detection/classification.\n",
    "def multiple_Fruit_Detect(fruitlist):\n",
    "    X_train,X_test,y_train,y_test = Preprecessing(fruitlist)\n",
    "    tree = DecisionTreeClassifier()\n",
    "    tree = tree.fit(X_train,y_train)\n",
    "    y_pred = tree.predict(X_test)\n",
    "    precision=metrics.accuracy_score(y_pred,y_test)*100\n",
    "    print(\"Accuracy to detect\"+str(fruitlist)+':'+'{0:.2f}%'.format(precision))\n"
   ]
  },
  {
   "cell_type": "code",
   "execution_count": 33,
   "metadata": {},
   "outputs": [
    {
     "name": "stdout",
     "output_type": "stream",
     "text": [
      "TRAIN PEACH : 492\n",
      "TRAIN POTATO RED : 450\n",
      "TRAIN MANGO : 490\n",
      "TRAIN PINEAPPLE : 490\n",
      "TEST PEACH : 164\n",
      "TEST POTATO RED : 150\n",
      "TEST MANGO : 166\n",
      "TEST PINEAPPLE : 166\n",
      "--------------------------------\n",
      "shape of the training data: (1922, 30000)\n",
      "shape of the testing data: (646, 30000)\n",
      "--------------------------------\n",
      "Accuracy to detect['Peach', 'Potato Red', 'Mango', 'Pineapple']:97.68%\n"
     ]
    }
   ],
   "source": [
    "multi_fruitlist = ['Peach','Potato Red','Mango','Pineapple']\n",
    "multiple_Fruit_Detect(multi_fruitlist)"
   ]
  },
  {
   "cell_type": "code",
   "execution_count": 35,
   "metadata": {},
   "outputs": [
    {
     "name": "stdout",
     "output_type": "stream",
     "text": [
      "TRAIN KIWI : 466\n",
      "TRAIN POTATO RED : 450\n",
      "TRAIN POTATO SWEET : 450\n",
      "TRAIN PINEAPPLE : 490\n",
      "TEST KIWI : 156\n",
      "TEST POTATO RED : 150\n",
      "TEST POTATO SWEET : 150\n",
      "TEST PINEAPPLE : 166\n",
      "--------------------------------\n",
      "shape of the training data: (1856, 30000)\n",
      "shape of the testing data: (622, 30000)\n",
      "--------------------------------\n",
      "Accuracy to detect['Kiwi', 'Potato Red', 'Potato Sweet', 'Pineapple']:77.81%\n"
     ]
    }
   ],
   "source": [
    "multi_fruitlist = ['Kiwi','Potato Red','Potato Sweet','Pineapple']\n",
    "multiple_Fruit_Detect(multi_fruitlist)"
   ]
  },
  {
   "cell_type": "code",
   "execution_count": 36,
   "metadata": {},
   "outputs": [
    {
     "name": "stdout",
     "output_type": "stream",
     "text": [
      "TRAIN PEPPER GREEN : 444\n",
      "TRAIN PEPPER RED : 666\n",
      "TRAIN PEPPER ORANGE : 702\n",
      "TRAIN PEPPER YELLOW : 666\n",
      "TEST PEPPER GREEN : 148\n",
      "TEST PEPPER RED : 222\n",
      "TEST PEPPER ORANGE : 234\n",
      "TEST PEPPER YELLOW : 222\n",
      "--------------------------------\n",
      "shape of the training data: (2478, 30000)\n",
      "shape of the testing data: (826, 30000)\n",
      "--------------------------------\n",
      "Accuracy to detect['Pepper Green', 'Pepper Red', 'Pepper Orange', 'Pepper Yellow']:88.74%\n"
     ]
    }
   ],
   "source": [
    "multi_fruitlist = ['Pepper Green','Pepper Red','Pepper Orange','Pepper Yellow']\n",
    "multiple_Fruit_Detect(multi_fruitlist)"
   ]
  },
  {
   "cell_type": "code",
   "execution_count": null,
   "metadata": {},
   "outputs": [],
   "source": []
  }
 ],
 "metadata": {
  "kernelspec": {
   "display_name": "Python 3",
   "language": "python",
   "name": "python3"
  },
  "language_info": {
   "codemirror_mode": {
    "name": "ipython",
    "version": 3
   },
   "file_extension": ".py",
   "mimetype": "text/x-python",
   "name": "python",
   "nbconvert_exporter": "python",
   "pygments_lexer": "ipython3",
   "version": "3.8.6rc1"
  }
 },
 "nbformat": 4,
 "nbformat_minor": 4
}
