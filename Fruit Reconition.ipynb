{
 "cells": [
  {
   "cell_type": "code",
   "execution_count": 8,
   "metadata": {},
   "outputs": [],
   "source": [
    "import numpy as np \n",
    "import glob\n",
    "import os\n",
    "import matplotlib.pyplot as plt\n",
    "import string\n",
    "from mpl_toolkits.mplot3d import Axes3D\n",
    "from sklearn.decomposition import PCA\n",
    "from sklearn.preprocessing import StandardScaler\n",
    "from sklearn.neighbors import KNeighborsClassifier\n",
    "from sklearn.tree import DecisionTreeClassifier \n",
    "from sklearn.model_selection import train_test_split, cross_val_score\n",
    "from sklearn.utils.multiclass import unique_labels\n",
    "from sklearn import metrics\n",
    "from sklearn.svm import SVC\n",
    "# HOG\n",
    "\n",
    "import json\n",
    "from skimage import color\n",
    "from skimage.feature import hog\n",
    "from sklearn import svm\n",
    "from sklearn.metrics import classification_report,accuracy_score\n",
    "from subprocess import check_output\n",
    "\n",
    "dim = 100"
   ]
  },
  {
   "cell_type": "code",
   "execution_count": 15,
   "metadata": {},
   "outputs": [
    {
     "name": "stdout",
     "output_type": "stream",
     "text": [
      "Collecting opencv-python\n",
      "  Downloading opencv_python-4.5.3.56-cp38-cp38-macosx_10_15_x86_64.whl (42.6 MB)\n",
      "\u001b[K     |████████████████████████████████| 42.6 MB 1.5 MB/s eta 0:00:01\n",
      "\u001b[?25hRequirement already satisfied: numpy>=1.17.3 in /Library/Frameworks/Python.framework/Versions/3.8/lib/python3.8/site-packages (from opencv-python) (1.19.2)\n",
      "Installing collected packages: opencv-python\n",
      "Successfully installed opencv-python-4.5.3.56\n",
      "\u001b[33mWARNING: You are using pip version 20.2.1; however, version 21.2.4 is available.\n",
      "You should consider upgrading via the '/Library/Frameworks/Python.framework/Versions/3.8/bin/python3.8 -m pip install --upgrade pip' command.\u001b[0m\n"
     ]
    }
   ],
   "source": [
    "!pip3 install opencv-python"
   ]
  },
  {
   "cell_type": "code",
   "execution_count": 16,
   "metadata": {},
   "outputs": [],
   "source": [
    "def GetFruit(fruitlist,datatype,print_n=False,k_fold=False):\n",
    "    images=[]\n",
    "    labels=[]\n",
    "    val=['train','test']\n",
    "    if not k_fold:\n",
    "        PATH=\"./fruits-360/\"+datatype+\"/\"\n",
    "        for i,fruit in enumerate(fruitlist):\n",
    "            p=PATH+fruit\n",
    "            j=0\n",
    "            for image_path in glob.glob(os.path.join(p,\"*.jpg\")):\n",
    "                image=cv2.imread(image_path,cv2.IMREAD_COLOR)\n",
    "                image=cv2.resize(image,(dim,dim))\n",
    "                image=cv2.cvtColor(image,cv2.COLOR_RGB2BGR)\n",
    "                images.append(image)\n",
    "                labels.append(i)\n",
    "                j+=1\n",
    "            if(print_n):\n",
    "                print(\"There are\",j,\"\",datatype.upper(),\" images of \",fruitlist[i].upper())\n",
    "        images=np.array(images)\n",
    "        labels=np.array(labels)\n",
    "        return images,labels\n",
    "    else:\n",
    "        for v in val:\n",
    "            PATH=\"./fruits-360/\"+v+\"/\"\n",
    "            for i,fruit in enumerate(fruitlist):\n",
    "                p=PATH+fruit\n",
    "                j=0\n",
    "                for image_path in glob.glob(os.path.join(p,\"*.jpg\")):\n",
    "                    image=cv2.imread(image_path,cv2.IMREAD_COLOR)\n",
    "                    image=cv2.resize(image,(dim,dim))\n",
    "                    image=cv2.cvtColor(image,cv2.COLOR_RGB2BGR)\n",
    "                    images.append(image)\n",
    "                    labels.append(i)\n",
    "                    j+=1\n",
    "            images=np.array(images)\n",
    "            labels=np.array(labels)\n",
    "            return images,labels\n"
   ]
  },
  {
   "cell_type": "code",
   "execution_count": null,
   "metadata": {},
   "outputs": [],
   "source": [
    "# simple Binary-classification problem\n",
    "# Pineapple and kiwi"
   ]
  },
  {
   "cell_type": "code",
   "execution_count": 19,
   "metadata": {},
   "outputs": [
    {
     "name": "stdout",
     "output_type": "stream",
     "text": [
      "There are 490  TRAIN  images of  PINEAPPLE\n",
      "There are 466  TRAIN  images of  KIWI\n",
      "There are 166  TEST  images of  PINEAPPLE\n",
      "There are 156  TEST  images of  KIWI\n"
     ]
    }
   ],
   "source": [
    "import cv2\n",
    "fruitlist=['Pineapple','kiwi']\n",
    "# Get image and Labels\n",
    "X_train_raw,y_train=GetFruit(fruitlist,'train',print_n=True,k_fold=False)\n",
    "X_test_raw,y_test=GetFruit(fruitlist,'test',print_n=True,k_fold=False)\n",
    "# Get data for k-fold\n",
    "X_raw,y=GetFruit(fruitlist,'',print_n=True,k_fold=True)"
   ]
  },
  {
   "cell_type": "code",
   "execution_count": 20,
   "metadata": {},
   "outputs": [],
   "source": [
    "from skimage import feature\n",
    "ppc=16\n",
    "hog_features_train = []\n",
    "hog_features_test = []\n",
    "hog_images_train= []\n",
    "hog_images_test=[]\n",
    "for image in X_train_raw:\n",
    "    fd,hog_image = feature.hog(image, orientations=8, pixels_per_cell=(ppc,ppc),cells_per_block=(4, 4),block_norm= 'L2',visualize=True)\n",
    "    hog_images_train.append(hog_image)\n",
    "    hog_features_train.append(fd)\n",
    "for image in X_test_raw:\n",
    "    fd,hog_image = feature.hog(image, orientations=8, pixels_per_cell=(ppc,ppc),cells_per_block=(4, 4),block_norm= 'L2',visualize=True)\n",
    "    hog_images_test.append(hog_image)\n",
    "    hog_features_test.append(fd)\n",
    "\n",
    "# Scale data Images\n",
    "scaler=StandardScaler()\n",
    "X_train=scaler.fit_transform([i.flatten() for i in X_train_raw])\n",
    "X_test=scaler.fit_transform([i.flatten() for i in X_test_raw])\n",
    "X_train_hog=scaler.fit_transform([i.flatten() for i in hog_images_train])\n",
    "X_test_hog=scaler.fit_transform([i.flatten() for i in hog_images_test])\n",
    "X=scaler.fit_transform([i.flatten() for i in X_raw])"
   ]
  },
  {
   "cell_type": "code",
   "execution_count": 21,
   "metadata": {},
   "outputs": [
    {
     "name": "stdout",
     "output_type": "stream",
     "text": [
      "Shape of the data:\n",
      "((956, 30000), (956,))\n",
      "((322, 30000), (322,))\n",
      "(956, 10000)\n",
      "(322, 10000)\n",
      "\n",
      "Data sample:\n",
      "(array([0.23243119, 0.24001185, 0.26975539, ..., 0.        , 0.        ,\n",
      "       0.        ]), 0)\n",
      "(array([0., 0., 0., ..., 0., 0., 0.]), 0)\n"
     ]
    }
   ],
   "source": [
    "print(\"Shape of the data:\")\n",
    "print((X_train.shape,y_train.shape))\n",
    "print((X_test.shape,y_test.shape))\n",
    "print(X_train_hog.shape)\n",
    "print(X_test_hog.shape)\n",
    "\n",
    "print(\"\\nData sample:\")\n",
    "print((X_train[0],y_train[0]))\n",
    "print((X_train_hog[0],y_train[0]))"
   ]
  },
  {
   "cell_type": "code",
   "execution_count": null,
   "metadata": {},
   "outputs": [],
   "source": []
  }
 ],
 "metadata": {
  "kernelspec": {
   "display_name": "Python 3",
   "language": "python",
   "name": "python3"
  },
  "language_info": {
   "codemirror_mode": {
    "name": "ipython",
    "version": 3
   },
   "file_extension": ".py",
   "mimetype": "text/x-python",
   "name": "python",
   "nbconvert_exporter": "python",
   "pygments_lexer": "ipython3",
   "version": "3.8.6rc1"
  }
 },
 "nbformat": 4,
 "nbformat_minor": 4
}
